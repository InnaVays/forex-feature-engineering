{
 "cells": [
  {
   "cell_type": "code",
   "execution_count": 18,
   "id": "9657adbf",
   "metadata": {},
   "outputs": [],
   "source": [
    "import pandas as pd\n",
    "import numpy as np\n",
    "import pandas_ta as ta\n",
    "import functions\n",
    "\n",
    "import warnings\n",
    "warnings.filterwarnings(\"ignore\")\n"
   ]
  },
  {
   "cell_type": "code",
   "execution_count": 19,
   "id": "3b8d4a2e",
   "metadata": {},
   "outputs": [
    {
     "name": "stdout",
     "output_type": "stream",
     "text": [
      "Number of candles 6238\n",
      "Columns: \n",
      " Index(['Date', 'Volume', 'Open', 'High', 'Low', 'Close', 'Spr'], dtype='object')\n"
     ]
    }
   ],
   "source": [
    "# DATA preprocessing:\n",
    "\n",
    "# set a pair and time period \n",
    "pair = 'EUR_USD'\n",
    "granularity = 'H1'  #granularity in OANDA format\n",
    "pip = 0.0001        # set pip value of the pair\n",
    "year = 2021     # select only year of interest\n",
    "\n",
    "# import data as datafreme\n",
    "df = pd.read_pickle( f\"hist_data/{pair}_{granularity}.pkl\" )\n",
    "\n",
    "# keeping numeric format of prices \n",
    "not_num_cols = ['volume','time']\n",
    "num_col = [x for x in df.columns if x not in not_num_cols ]\n",
    "df[num_col] = df[num_col].apply(pd.to_numeric)\n",
    "\n",
    "# set time of the candle as index and keep only year of interest\n",
    "df.index = pd.to_datetime(df.time)\n",
    "df = df[df.index.year == year]\n",
    "\n",
    "# spread\n",
    "df['Spr'] = (df.ask_c - df.bid_c)\n",
    "\n",
    "# keep only midle prices, renaming columns and dropiing unused\n",
    "df.rename(columns = {'volume':'Volume','mid_o':'Open','mid_c':'Close','mid_l':'Low','mid_h':'High','time':'Date'}, inplace=True)\n",
    "df = df.drop(['bid_o', 'bid_h', 'bid_l', 'bid_c', 'ask_o', 'ask_h', 'ask_l', 'ask_c'],axis=1)\n",
    "\n",
    "print('Number of candles', len(df))\n",
    "print('Columns: \\n', df.columns)\n"
   ]
  },
  {
   "cell_type": "code",
   "execution_count": 20,
   "id": "54e0e2e3",
   "metadata": {},
   "outputs": [],
   "source": [
    "# Get the short day trend: whether current price is above o below day opening price\n",
    "\n",
    "# create dataframe with dates only \n",
    "df['Dates'] = df.index.date\n",
    "index_list =sorted(set(df['Dates']))\n",
    "df_1D = pd.DataFrame( index = index_list, columns = [ 'Open' ]  )\n",
    "df_1D.Open = [ df['Open'][ df.Dates == idx ][0] for idx in index_list ]\n",
    "\n",
    "# create a columne with an opening price of the date \n",
    "df['Date_start'] = np.nan \n",
    "for date in df_1D.index:\n",
    "    df.Date_start[(date.year == df.index.year) & (date.month == df.index.month) \\\n",
    "                   & (date.day == df.index.day)] = df_1D.Open[ df_1D.index == date ][0]\n",
    "df['Date_start'].ffill( inplace = True)\n",
    "\n",
    "# create short trend of the day: 1 - if current price above day open, -1 - if current price below day open\n",
    "df['Short_trend'] = np.where( df.Date_start < df.Close, 1, 0 )\n",
    "df['Short_trend'] = np.where( df.Date_start > df.Close, -1, df.Short_trend )"
   ]
  },
  {
   "cell_type": "code",
   "execution_count": 21,
   "id": "43ddefe7",
   "metadata": {},
   "outputs": [
    {
     "data": {
      "text/html": [
       "<div>\n",
       "<style scoped>\n",
       "    .dataframe tbody tr th:only-of-type {\n",
       "        vertical-align: middle;\n",
       "    }\n",
       "\n",
       "    .dataframe tbody tr th {\n",
       "        vertical-align: top;\n",
       "    }\n",
       "\n",
       "    .dataframe thead th {\n",
       "        text-align: right;\n",
       "    }\n",
       "</style>\n",
       "<table border=\"1\" class=\"dataframe\">\n",
       "  <thead>\n",
       "    <tr style=\"text-align: right;\">\n",
       "      <th></th>\n",
       "      <th>Date</th>\n",
       "      <th>Volume</th>\n",
       "      <th>Open</th>\n",
       "      <th>High</th>\n",
       "      <th>Low</th>\n",
       "      <th>Close</th>\n",
       "      <th>Spr</th>\n",
       "      <th>Dates</th>\n",
       "      <th>Date_start</th>\n",
       "      <th>Short_trend</th>\n",
       "    </tr>\n",
       "    <tr>\n",
       "      <th>time</th>\n",
       "      <th></th>\n",
       "      <th></th>\n",
       "      <th></th>\n",
       "      <th></th>\n",
       "      <th></th>\n",
       "      <th></th>\n",
       "      <th></th>\n",
       "      <th></th>\n",
       "      <th></th>\n",
       "      <th></th>\n",
       "    </tr>\n",
       "  </thead>\n",
       "  <tbody>\n",
       "    <tr>\n",
       "      <th>2021-01-03 22:00:00+00:00</th>\n",
       "      <td>2021-01-03T22:00:00.000000000Z</td>\n",
       "      <td>184</td>\n",
       "      <td>1.22400</td>\n",
       "      <td>1.22427</td>\n",
       "      <td>1.22324</td>\n",
       "      <td>1.22342</td>\n",
       "      <td>0.00063</td>\n",
       "      <td>2021-01-03</td>\n",
       "      <td>1.22400</td>\n",
       "      <td>-1</td>\n",
       "    </tr>\n",
       "    <tr>\n",
       "      <th>2021-01-03 23:00:00+00:00</th>\n",
       "      <td>2021-01-03T23:00:00.000000000Z</td>\n",
       "      <td>1623</td>\n",
       "      <td>1.22339</td>\n",
       "      <td>1.22528</td>\n",
       "      <td>1.22310</td>\n",
       "      <td>1.22500</td>\n",
       "      <td>0.00017</td>\n",
       "      <td>2021-01-03</td>\n",
       "      <td>1.22400</td>\n",
       "      <td>1</td>\n",
       "    </tr>\n",
       "    <tr>\n",
       "      <th>2021-01-04 00:00:00+00:00</th>\n",
       "      <td>2021-01-04T00:00:00.000000000Z</td>\n",
       "      <td>2930</td>\n",
       "      <td>1.22498</td>\n",
       "      <td>1.22498</td>\n",
       "      <td>1.22388</td>\n",
       "      <td>1.22409</td>\n",
       "      <td>0.00016</td>\n",
       "      <td>2021-01-04</td>\n",
       "      <td>1.22498</td>\n",
       "      <td>-1</td>\n",
       "    </tr>\n",
       "    <tr>\n",
       "      <th>2021-01-04 01:00:00+00:00</th>\n",
       "      <td>2021-01-04T01:00:00.000000000Z</td>\n",
       "      <td>3149</td>\n",
       "      <td>1.22410</td>\n",
       "      <td>1.22558</td>\n",
       "      <td>1.22400</td>\n",
       "      <td>1.22527</td>\n",
       "      <td>0.00014</td>\n",
       "      <td>2021-01-04</td>\n",
       "      <td>1.22498</td>\n",
       "      <td>1</td>\n",
       "    </tr>\n",
       "    <tr>\n",
       "      <th>2021-01-04 02:00:00+00:00</th>\n",
       "      <td>2021-01-04T02:00:00.000000000Z</td>\n",
       "      <td>2640</td>\n",
       "      <td>1.22526</td>\n",
       "      <td>1.22586</td>\n",
       "      <td>1.22496</td>\n",
       "      <td>1.22542</td>\n",
       "      <td>0.00015</td>\n",
       "      <td>2021-01-04</td>\n",
       "      <td>1.22498</td>\n",
       "      <td>1</td>\n",
       "    </tr>\n",
       "    <tr>\n",
       "      <th>...</th>\n",
       "      <td>...</td>\n",
       "      <td>...</td>\n",
       "      <td>...</td>\n",
       "      <td>...</td>\n",
       "      <td>...</td>\n",
       "      <td>...</td>\n",
       "      <td>...</td>\n",
       "      <td>...</td>\n",
       "      <td>...</td>\n",
       "      <td>...</td>\n",
       "    </tr>\n",
       "    <tr>\n",
       "      <th>2021-12-31 17:00:00+00:00</th>\n",
       "      <td>2021-12-31T17:00:00.000000000Z</td>\n",
       "      <td>1729</td>\n",
       "      <td>1.13790</td>\n",
       "      <td>1.13864</td>\n",
       "      <td>1.13774</td>\n",
       "      <td>1.13863</td>\n",
       "      <td>0.00014</td>\n",
       "      <td>2021-12-31</td>\n",
       "      <td>1.13222</td>\n",
       "      <td>1</td>\n",
       "    </tr>\n",
       "    <tr>\n",
       "      <th>2021-12-31 18:00:00+00:00</th>\n",
       "      <td>2021-12-31T18:00:00.000000000Z</td>\n",
       "      <td>828</td>\n",
       "      <td>1.13862</td>\n",
       "      <td>1.13862</td>\n",
       "      <td>1.13748</td>\n",
       "      <td>1.13847</td>\n",
       "      <td>0.00014</td>\n",
       "      <td>2021-12-31</td>\n",
       "      <td>1.13222</td>\n",
       "      <td>1</td>\n",
       "    </tr>\n",
       "    <tr>\n",
       "      <th>2021-12-31 19:00:00+00:00</th>\n",
       "      <td>2021-12-31T19:00:00.000000000Z</td>\n",
       "      <td>619</td>\n",
       "      <td>1.13849</td>\n",
       "      <td>1.13858</td>\n",
       "      <td>1.13798</td>\n",
       "      <td>1.13827</td>\n",
       "      <td>0.00014</td>\n",
       "      <td>2021-12-31</td>\n",
       "      <td>1.13222</td>\n",
       "      <td>1</td>\n",
       "    </tr>\n",
       "    <tr>\n",
       "      <th>2021-12-31 20:00:00+00:00</th>\n",
       "      <td>2021-12-31T20:00:00.000000000Z</td>\n",
       "      <td>623</td>\n",
       "      <td>1.13826</td>\n",
       "      <td>1.13854</td>\n",
       "      <td>1.13758</td>\n",
       "      <td>1.13758</td>\n",
       "      <td>0.00018</td>\n",
       "      <td>2021-12-31</td>\n",
       "      <td>1.13222</td>\n",
       "      <td>1</td>\n",
       "    </tr>\n",
       "    <tr>\n",
       "      <th>2021-12-31 21:00:00+00:00</th>\n",
       "      <td>2021-12-31T21:00:00.000000000Z</td>\n",
       "      <td>740</td>\n",
       "      <td>1.13760</td>\n",
       "      <td>1.13827</td>\n",
       "      <td>1.13727</td>\n",
       "      <td>1.13730</td>\n",
       "      <td>0.00100</td>\n",
       "      <td>2021-12-31</td>\n",
       "      <td>1.13222</td>\n",
       "      <td>1</td>\n",
       "    </tr>\n",
       "  </tbody>\n",
       "</table>\n",
       "<p>6238 rows × 10 columns</p>\n",
       "</div>"
      ],
      "text/plain": [
       "                                                     Date  Volume     Open  \\\n",
       "time                                                                         \n",
       "2021-01-03 22:00:00+00:00  2021-01-03T22:00:00.000000000Z     184  1.22400   \n",
       "2021-01-03 23:00:00+00:00  2021-01-03T23:00:00.000000000Z    1623  1.22339   \n",
       "2021-01-04 00:00:00+00:00  2021-01-04T00:00:00.000000000Z    2930  1.22498   \n",
       "2021-01-04 01:00:00+00:00  2021-01-04T01:00:00.000000000Z    3149  1.22410   \n",
       "2021-01-04 02:00:00+00:00  2021-01-04T02:00:00.000000000Z    2640  1.22526   \n",
       "...                                                   ...     ...      ...   \n",
       "2021-12-31 17:00:00+00:00  2021-12-31T17:00:00.000000000Z    1729  1.13790   \n",
       "2021-12-31 18:00:00+00:00  2021-12-31T18:00:00.000000000Z     828  1.13862   \n",
       "2021-12-31 19:00:00+00:00  2021-12-31T19:00:00.000000000Z     619  1.13849   \n",
       "2021-12-31 20:00:00+00:00  2021-12-31T20:00:00.000000000Z     623  1.13826   \n",
       "2021-12-31 21:00:00+00:00  2021-12-31T21:00:00.000000000Z     740  1.13760   \n",
       "\n",
       "                              High      Low    Close      Spr       Dates  \\\n",
       "time                                                                        \n",
       "2021-01-03 22:00:00+00:00  1.22427  1.22324  1.22342  0.00063  2021-01-03   \n",
       "2021-01-03 23:00:00+00:00  1.22528  1.22310  1.22500  0.00017  2021-01-03   \n",
       "2021-01-04 00:00:00+00:00  1.22498  1.22388  1.22409  0.00016  2021-01-04   \n",
       "2021-01-04 01:00:00+00:00  1.22558  1.22400  1.22527  0.00014  2021-01-04   \n",
       "2021-01-04 02:00:00+00:00  1.22586  1.22496  1.22542  0.00015  2021-01-04   \n",
       "...                            ...      ...      ...      ...         ...   \n",
       "2021-12-31 17:00:00+00:00  1.13864  1.13774  1.13863  0.00014  2021-12-31   \n",
       "2021-12-31 18:00:00+00:00  1.13862  1.13748  1.13847  0.00014  2021-12-31   \n",
       "2021-12-31 19:00:00+00:00  1.13858  1.13798  1.13827  0.00014  2021-12-31   \n",
       "2021-12-31 20:00:00+00:00  1.13854  1.13758  1.13758  0.00018  2021-12-31   \n",
       "2021-12-31 21:00:00+00:00  1.13827  1.13727  1.13730  0.00100  2021-12-31   \n",
       "\n",
       "                           Date_start  Short_trend  \n",
       "time                                                \n",
       "2021-01-03 22:00:00+00:00     1.22400           -1  \n",
       "2021-01-03 23:00:00+00:00     1.22400            1  \n",
       "2021-01-04 00:00:00+00:00     1.22498           -1  \n",
       "2021-01-04 01:00:00+00:00     1.22498            1  \n",
       "2021-01-04 02:00:00+00:00     1.22498            1  \n",
       "...                               ...          ...  \n",
       "2021-12-31 17:00:00+00:00     1.13222            1  \n",
       "2021-12-31 18:00:00+00:00     1.13222            1  \n",
       "2021-12-31 19:00:00+00:00     1.13222            1  \n",
       "2021-12-31 20:00:00+00:00     1.13222            1  \n",
       "2021-12-31 21:00:00+00:00     1.13222            1  \n",
       "\n",
       "[6238 rows x 10 columns]"
      ]
     },
     "execution_count": 21,
     "metadata": {},
     "output_type": "execute_result"
    }
   ],
   "source": [
    "df"
   ]
  },
  {
   "attachments": {},
   "cell_type": "markdown",
   "id": "e2cdf300",
   "metadata": {},
   "source": [
    "## Book Strategies:"
   ]
  },
  {
   "attachments": {},
   "cell_type": "markdown",
   "id": "d61a237f",
   "metadata": {},
   "source": [
    "### BOOK STRATEGY 1: two SMMA + Bollinger Band\n",
    "\n",
    "**For Buy/Long Entry:**\n",
    "\n",
    "    Entry long trade when a candle closes above the top bollinger band\n",
    "    3 SMMA crosse above 5 SMMA\n",
    "    Candle close price is above day open price\n",
    "    Stop loss and Take profit = 20 pips\n",
    "\n",
    "**For Sold/Short Entry:**\n",
    "\n",
    "    Entry short trade when a candle closes below the bottom bollinger band\n",
    "    3 SMMA crosse below 5 SMMA\n",
    "    Candle close price is below day open price\n",
    "    Stop loss and Take profit = 20 pips"
   ]
  },
  {
   "cell_type": "code",
   "execution_count": 22,
   "id": "13dc04dc",
   "metadata": {},
   "outputs": [
    {
     "name": "stdout",
     "output_type": "stream",
     "text": [
      "FINAL RETURN :  97.75 \n",
      "MAX RETURN:  100.45 \n",
      "MIN RETURN:  97.40 \n",
      "Wins:  73 ; Losses:  76 ; Win rate:  0.49\n",
      "Average profit in pips:  18.6 ; Average loss in pips:  21.4\n"
     ]
    },
    {
     "data": {
      "image/png": "[encoded data removed]",
      "text/plain": [
       "<Figure size 1080x216 with 1 Axes>"
      ]
     },
     "metadata": {
      "needs_background": "light"
     },
     "output_type": "display_data"
    }
   ],
   "source": [
    "# set indicators values:\n",
    "# two SMMA\n",
    "df['SMMA_3'] = ta.smma(df.Close,3)\n",
    "df['SMMA_5'] = ta.smma(df.Close,5)\n",
    "# Bol. band\n",
    "df['BB'] = ta.ema(df.Close,20)\n",
    "df['BB_up'] = df.BB + 0.8*df.Close.rolling(20).std() \n",
    "df['BB_down'] = df.BB - 0.8*df.Close.rolling(20).std() \n",
    "\n",
    "# booline arrays whether the entring conditions satisfied - 1, or not 0  \n",
    "enter_long_1 =  np.where( ( df.BB_up.shift() > df.Close.shift() ) & ( df.BB_up < df.Close ) \\\n",
    "                        & ( df.SMMA_3 > df.SMMA_5 ) & ( df.SMMA_3.shift() < df.SMMA_5.shift() ) \\\n",
    "                        & ( df.Short_trend == 1) \n",
    "                          , 1,  0)\n",
    "                \n",
    "enter_short_1 = np.where( ( df.BB_down.shift() < df.Close.shift() ) & ( df.BB_down > df.Close ) \\\n",
    "                        & ( df.SMMA_3 < df.SMMA_5 ) & ( df.SMMA_3.shift() > df.SMMA_5.shift() ) \\\n",
    "                        & ( df.Short_trend == -1)\n",
    "                         , 1,  0)\n",
    "\n",
    "# set a stop price and take profit price (array)\n",
    "stop_price = df.Close*0 + 20*pip\n",
    "exit_price = df.Close*0 + 20*pip\n",
    "\n",
    "# trading simulator enters long/short position if condition is satisfied and exit when stop prise/exit price is reached\n",
    "Strategy_1 = functions.trade_simulator(df.Close, df.High, df.Low, df.Spr, \n",
    "                                        enter_long_1, \n",
    "                                        enter_short_1,  \n",
    "                                        take_profit = exit_price, \n",
    "                                        stop_loss = stop_price, \n",
    "                                      )\n",
    "df['Position'] = Strategy_1[1]\n",
    "df['Win_loss'] = Strategy_1[0]\n",
    "\n",
    "functions.strategy_outcome(df, 'Win_loss', 'Position')"
   ]
  },
  {
   "attachments": {},
   "cell_type": "markdown",
   "id": "328c4dd2",
   "metadata": {},
   "source": [
    "### BOOK STRATEGY 2: Stochasticcs + SMA + RSI\n",
    "\n",
    "**For Buy/Long Entry:**\n",
    "\n",
    "    Entry long trade when price crosses above the moving average\n",
    "    The Stochasticcs are above 50 and cross below\n",
    "    RSI crosses above level 70\n",
    "    Candle close price is above day open price\n",
    "    Stop loss and Take profit = 20 pips\n",
    "\n",
    "**For Sold/Short Entry:**\n",
    "\n",
    "    Entry long trade when price crosses above the moving average\n",
    "    The Stochasticcs are below 50 and cross up\n",
    "    RSI crosses below level 30\n",
    "    Candle close price is below day open price\n",
    "    Stop loss and Take profit = 20 pips\n"
   ]
  },
  {
   "cell_type": "code",
   "execution_count": 23,
   "id": "a50b0dcb",
   "metadata": {},
   "outputs": [
    {
     "name": "stdout",
     "output_type": "stream",
     "text": [
      "FINAL RETURN :  95.96 \n",
      "MAX RETURN:  100.59 \n",
      "MIN RETURN:  95.68 \n",
      "Wins:  66 ; Losses:  80 ; Win rate:  0.452\n",
      "Average profit in pips:  18.6 ; Average loss in pips:  21.4\n"
     ]
    },
    {
     "data": {
      "image/png": "[encoded data removed]",
      "text/plain": [
       "<Figure size 1080x216 with 1 Axes>"
      ]
     },
     "metadata": {
      "needs_background": "light"
     },
     "output_type": "display_data"
    }
   ],
   "source": [
    "df['RSI_3'] = ta.rsi(df.Close, 3)\n",
    "df['SMA'] = ta.sma(df.Close, 12)\n",
    "\n",
    "Stochstics = ta.stoch(close = df.Close, high=df.High,low=df.Low, k=12, d = 3, smooth = 4)\n",
    "df['STOCHk'] = Stochstics.iloc[:,0]\n",
    "df['STOCHd'] = Stochstics.iloc[:,1]\n",
    "df['STOCHh'] = Stochstics.iloc[:,2]\n",
    "\n",
    "enter_long_2 = (df.SMA < df.Close) & (df.SMA.shift() > df.Close.shift()) \\\n",
    "                & (df.RSI_3 > 70) & (df.RSI_3.shift() < df.RSI_3) \\\n",
    "                & (df.STOCHk < 50) & (df.STOCHh > 0) & ( df.Short_trend == 1)\n",
    "\n",
    "enter_short_2 = (df.SMA > df.Close) & (df.SMA.shift() < df.Close.shift()) \\\n",
    "                & (df.RSI_3 < 30) & (df.RSI_3.shift() > df.RSI_3) \\\n",
    "                & (df.STOCHk > 50) & (df.STOCHh < 0) & ( df.Short_trend == -1)\n",
    "\n",
    "Strategy_2 = functions.trade_simulator(df.Close, df.High, df.Low, df.Spr, \n",
    "                                        enter_long_2, \n",
    "                                        enter_short_2,  \n",
    "                                        take_profit = exit_price, \n",
    "                                        stop_loss=stop_price, \n",
    "                                        )\n",
    "\n",
    "df['Position'] = Strategy_2[1]\n",
    "df['Win_loss'] = Strategy_2[0]\n",
    "\n",
    "functions.strategy_outcome(df, 'Win_loss', 'Position')\n"
   ]
  },
  {
   "attachments": {},
   "cell_type": "markdown",
   "id": "da8a194e",
   "metadata": {},
   "source": [
    "___"
   ]
  },
  {
   "attachments": {},
   "cell_type": "markdown",
   "id": "fa88ea44",
   "metadata": {},
   "source": [
    "## Feature generator:\n",
    "\n",
    "The **Pair_test** class generates features for potential trading opportunities by performing a search over a selected year and simulating strategy performance. The process involves several steps:\n",
    "\n",
    "- Import data for a given pair, year, and granularity.\n",
    "- Perform data preprocessing.\n",
    "- Apply numerous technical indicators, resulting in two boolean columns (\"enter_long\" and \"enter_short\") for each indicator, that take value \"True\" when the conditions for a long or short position are met.\n",
    "- Calculate **Labels_2**. Label is a variable with two classes (1 and -1) based on expected future profit for each candle. Variable is setting the label to 1 if future prices reach the **close price+expected profit** before **close price-expected profit** and to -1 if the opposite occurs.\n",
    "- Search through all possible strategies, each of which consists of a combination of three indicator entry conditions.\n",
    "\n",
    "A strategy is kept if:\n",
    "\n",
    "    (Labels=1 | Strategy=1)/sum(Strategy=1) > threshold rate AND (Labels=-1 | Strategy=-1)/sum(Strategy=-1) > threshold rate."
   ]
  },
  {
   "cell_type": "code",
   "execution_count": 24,
   "id": "6c6533bd",
   "metadata": {},
   "outputs": [],
   "source": [
    "from feature_generator import Pair_tester\n",
    "\n",
    "pair = 'EUR_USD'\n",
    "granularity = 'H1'  #granularity in OANDA format\n",
    "path = 'hist_data/' #path to a data directory\n",
    "\n",
    "pip = 0.0001\n",
    "\n",
    "# ATR multiplier and length for expected profit\n",
    "atr_coef = 2\n",
    "atr_length = 8\n",
    "\n",
    "#threshold rate, which strategies to keep, must be <0.5  \n",
    "threshold = 0.60"
   ]
  },
  {
   "cell_type": "code",
   "execution_count": 25,
   "id": "1d5fba4e",
   "metadata": {},
   "outputs": [
    {
     "name": "stdout",
     "output_type": "stream",
     "text": [
      "Number of potential strategies:  15\n",
      "Number of positive (long) and negative (short) upcomming labels:\n",
      "-1.0    3268\n",
      " 1.0    2956\n",
      "Name: Labels_2, dtype: int64\n"
     ]
    }
   ],
   "source": [
    "test_2021 = Pair_tester(path, pair, granularity, pip, year = 2021)\n",
    "test_2021.apply_bunch_of_indicators( )\n",
    "\n",
    "profit = ta.atr(high=test_2021.df.High, low=test_2021.df.Low, close=test_2021.df.Close, length=atr_length)*atr_coef\n",
    "test_2021.get_labels(profit)\n",
    "\n",
    "test_2021.run_indicators_search(threshold=threshold)\n",
    "\n",
    "print( \"Number of positive (long) and negative (short) upcomming labels:\" )\n",
    "print(test_2021.df.Labels_2.value_counts())"
   ]
  },
  {
   "cell_type": "code",
   "execution_count": 26,
   "id": "917f1b78",
   "metadata": {},
   "outputs": [
    {
     "data": {
      "text/html": [
       "<div>\n",
       "<style scoped>\n",
       "    .dataframe tbody tr th:only-of-type {\n",
       "        vertical-align: middle;\n",
       "    }\n",
       "\n",
       "    .dataframe tbody tr th {\n",
       "        vertical-align: top;\n",
       "    }\n",
       "\n",
       "    .dataframe thead th {\n",
       "        text-align: right;\n",
       "    }\n",
       "</style>\n",
       "<table border=\"1\" class=\"dataframe\">\n",
       "  <thead>\n",
       "    <tr style=\"text-align: right;\">\n",
       "      <th></th>\n",
       "      <th>Indicator_1</th>\n",
       "      <th>Indicator_2</th>\n",
       "      <th>Indicator_3</th>\n",
       "      <th>short_luck_ratio</th>\n",
       "      <th>long_luck_ratio</th>\n",
       "      <th>short_opps</th>\n",
       "      <th>long_opps</th>\n",
       "    </tr>\n",
       "  </thead>\n",
       "  <tbody>\n",
       "    <tr>\n",
       "      <th>2078</th>\n",
       "      <td>STOCH</td>\n",
       "      <td>STOCHRSI</td>\n",
       "      <td>Quantiles</td>\n",
       "      <td>0.656250</td>\n",
       "      <td>0.714286</td>\n",
       "      <td>32</td>\n",
       "      <td>21</td>\n",
       "    </tr>\n",
       "    <tr>\n",
       "      <th>1739</th>\n",
       "      <td>RSI_3</td>\n",
       "      <td>CMF</td>\n",
       "      <td>ROC</td>\n",
       "      <td>0.633333</td>\n",
       "      <td>0.692308</td>\n",
       "      <td>30</td>\n",
       "      <td>26</td>\n",
       "    </tr>\n",
       "    <tr>\n",
       "      <th>2480</th>\n",
       "      <td>CMF</td>\n",
       "      <td>ROC</td>\n",
       "      <td>ADX</td>\n",
       "      <td>0.736842</td>\n",
       "      <td>0.625000</td>\n",
       "      <td>19</td>\n",
       "      <td>16</td>\n",
       "    </tr>\n",
       "    <tr>\n",
       "      <th>1875</th>\n",
       "      <td>MACD</td>\n",
       "      <td>CMF</td>\n",
       "      <td>ROC</td>\n",
       "      <td>0.666667</td>\n",
       "      <td>0.777778</td>\n",
       "      <td>15</td>\n",
       "      <td>9</td>\n",
       "    </tr>\n",
       "    <tr>\n",
       "      <th>2100</th>\n",
       "      <td>STOCH</td>\n",
       "      <td>CMF</td>\n",
       "      <td>ROC</td>\n",
       "      <td>0.785714</td>\n",
       "      <td>0.666667</td>\n",
       "      <td>14</td>\n",
       "      <td>9</td>\n",
       "    </tr>\n",
       "    <tr>\n",
       "      <th>2454</th>\n",
       "      <td>KC</td>\n",
       "      <td>ADX</td>\n",
       "      <td>PSAR</td>\n",
       "      <td>0.642857</td>\n",
       "      <td>0.666667</td>\n",
       "      <td>14</td>\n",
       "      <td>15</td>\n",
       "    </tr>\n",
       "    <tr>\n",
       "      <th>1990</th>\n",
       "      <td>AO</td>\n",
       "      <td>KC</td>\n",
       "      <td>PSAR</td>\n",
       "      <td>0.777778</td>\n",
       "      <td>0.642857</td>\n",
       "      <td>9</td>\n",
       "      <td>14</td>\n",
       "    </tr>\n",
       "    <tr>\n",
       "      <th>846</th>\n",
       "      <td>SMMA_2_cross</td>\n",
       "      <td>BB_1</td>\n",
       "      <td>supertrend</td>\n",
       "      <td>0.666667</td>\n",
       "      <td>0.900000</td>\n",
       "      <td>6</td>\n",
       "      <td>10</td>\n",
       "    </tr>\n",
       "    <tr>\n",
       "      <th>2095</th>\n",
       "      <td>STOCH</td>\n",
       "      <td>KC</td>\n",
       "      <td>PSAR</td>\n",
       "      <td>0.833333</td>\n",
       "      <td>0.666667</td>\n",
       "      <td>6</td>\n",
       "      <td>9</td>\n",
       "    </tr>\n",
       "    <tr>\n",
       "      <th>2140</th>\n",
       "      <td>STOCH</td>\n",
       "      <td>supertrend</td>\n",
       "      <td>support_resist</td>\n",
       "      <td>0.666667</td>\n",
       "      <td>0.800000</td>\n",
       "      <td>6</td>\n",
       "      <td>10</td>\n",
       "    </tr>\n",
       "  </tbody>\n",
       "</table>\n",
       "</div>"
      ],
      "text/plain": [
       "       Indicator_1 Indicator_2     Indicator_3  short_luck_ratio  \\\n",
       "2078         STOCH    STOCHRSI       Quantiles          0.656250   \n",
       "1739         RSI_3         CMF             ROC          0.633333   \n",
       "2480           CMF         ROC             ADX          0.736842   \n",
       "1875          MACD         CMF             ROC          0.666667   \n",
       "2100         STOCH         CMF             ROC          0.785714   \n",
       "2454            KC         ADX            PSAR          0.642857   \n",
       "1990            AO          KC            PSAR          0.777778   \n",
       "846   SMMA_2_cross        BB_1      supertrend          0.666667   \n",
       "2095         STOCH          KC            PSAR          0.833333   \n",
       "2140         STOCH  supertrend  support_resist          0.666667   \n",
       "\n",
       "      long_luck_ratio short_opps long_opps  \n",
       "2078         0.714286         32        21  \n",
       "1739         0.692308         30        26  \n",
       "2480         0.625000         19        16  \n",
       "1875         0.777778         15         9  \n",
       "2100         0.666667         14         9  \n",
       "2454         0.666667         14        15  \n",
       "1990         0.642857          9        14  \n",
       "846          0.900000          6        10  \n",
       "2095         0.666667          6         9  \n",
       "2140         0.800000          6        10  "
      ]
     },
     "execution_count": 26,
     "metadata": {},
     "output_type": "execute_result"
    }
   ],
   "source": [
    "# best strategies:\n",
    "# Indicator_1, Indicator_2, Indicator_3 - names of strategy's indicators\n",
    "# long_luck_ratio - rates of Labels_2 == 1 predicted rightly by strategy long entry condition\n",
    "# shirt_luck_ratio - rates of Labels_2 == -1 predicted rightly by strategy short entry condition\n",
    "# short_opps - number of short trades opportunities\n",
    "# long_opps - number of long trades opportunities\n",
    "\n",
    "test_2021.best_strategies.head(10)"
   ]
  },
  {
   "cell_type": "code",
   "execution_count": 27,
   "id": "a7423a0f",
   "metadata": {},
   "outputs": [
    {
     "name": "stdout",
     "output_type": "stream",
     "text": [
      "FINAL RETURN :  101.85 \n",
      "MAX RETURN:  101.97 \n",
      "MIN RETURN:  99.71 \n",
      "Wins:  30 ; Losses:  17 ; Win rate:  0.638\n",
      "Average profit in pips:  21.8 ; Average loss in pips:  25.4\n"
     ]
    },
    {
     "data": {
      "image/png": "[encoded data removed]",
      "text/plain": [
       "<Figure size 1080x216 with 1 Axes>"
      ]
     },
     "metadata": {
      "needs_background": "light"
     },
     "output_type": "display_data"
    }
   ],
   "source": [
    "# Checking the first best strategy:\n",
    "strat_to_check = 0\n",
    "\n",
    "Indicator_1 = test_2021.best_strategies.Indicator_1.iloc[strat_to_check]\n",
    "Indicator_2 = test_2021.best_strategies.Indicator_2.iloc[strat_to_check]\n",
    "Indicator_3 = test_2021.best_strategies.Indicator_3.iloc[strat_to_check]\n",
    "\n",
    "enter_condition_long = np.where(  test_2021.df[Indicator_1+'_enter_long'] \\\n",
    "                                & test_2021.df[Indicator_2+'_enter_long'] \\\n",
    "                                & test_2021.df[Indicator_3+'_enter_long']  , 1,  0) \n",
    "\n",
    "enter_condition_short = np.where( test_2021.df[Indicator_1+'_enter_short'] \\\n",
    "                                & test_2021.df[Indicator_2+'_enter_short'] \\\n",
    "                                & test_2021.df[Indicator_3+'_enter_short']  , 1,  0)\n",
    "\n",
    "test_2021.set_enter_condition( enter_condition_long, enter_condition_short )\n",
    "test_2021.set_stop_loss_vector( profit)\n",
    "test_2021.set_take_profit_vector(profit)\n",
    "\n",
    "test_2021.run_simulator()\n",
    "test_2021.strategy_plot()\n"
   ]
  },
  {
   "attachments": {},
   "cell_type": "markdown",
   "id": "13bffb81",
   "metadata": {},
   "source": [
    "### I will be rich!\n",
    "## Test strategies on a new time period :"
   ]
  },
  {
   "cell_type": "code",
   "execution_count": 28,
   "id": "7ed7345d",
   "metadata": {},
   "outputs": [
    {
     "name": "stdout",
     "output_type": "stream",
     "text": [
      "Number of positive (long) and negative (short) upcomming labels:\n"
     ]
    },
    {
     "data": {
      "text/plain": [
       "-1.0    3042\n",
       " 1.0    2767\n",
       "Name: Labels_2, dtype: int64"
      ]
     },
     "execution_count": 28,
     "metadata": {},
     "output_type": "execute_result"
    }
   ],
   "source": [
    "# create pair tester for the next period\n",
    "test_2022 = Pair_tester(path, pair, granularity, pip, year = 2022)\n",
    "test_2022.apply_bunch_of_indicators( )\n",
    "\n",
    "profit = ta.atr(high=test_2022.df.High, low=test_2022.df.Low, close=test_2022.df.Close, length=atr_length)*atr_coef\n",
    "test_2022.get_labels(profit)\n",
    "print( \"Number of positive (long) and negative (short) upcomming labels:\" )\n",
    "test_2022.df.Labels_2.value_counts()\n"
   ]
  },
  {
   "cell_type": "code",
   "execution_count": 29,
   "id": "b535ec31",
   "metadata": {},
   "outputs": [
    {
     "name": "stdout",
     "output_type": "stream",
     "text": [
      "FINAL RETURN :  101.54 \n",
      "MAX RETURN:  101.54 \n",
      "MIN RETURN:  97.73 \n",
      "Wins:  24 ; Losses:  22 ; Win rate:  0.522\n",
      "Average profit in pips:  41.3 ; Average loss in pips:  38.3\n"
     ]
    },
    {
     "data": {
      "image/png": "[encoded data removed]",
      "text/plain": [
       "<Figure size 1080x216 with 1 Axes>"
      ]
     },
     "metadata": {
      "needs_background": "light"
     },
     "output_type": "display_data"
    }
   ],
   "source": [
    "# Let's check the first best strategy FROM THE PREVIOUS PERIOD:\n",
    "\n",
    "enter_condition_long = np.where(  test_2022.df[Indicator_1+'_enter_long'] \\\n",
    "                                & test_2022.df[Indicator_2+'_enter_long'] \\\n",
    "                                & test_2022.df[Indicator_3+'_enter_long']  , 1,  0) \n",
    "\n",
    "enter_condition_short = np.where( test_2022.df[Indicator_1+'_enter_short'] \\\n",
    "                                & test_2022.df[Indicator_2+'_enter_short'] \\\n",
    "                                & test_2022.df[Indicator_3+'_enter_short']  , 1,  0)\n",
    "\n",
    "test_2022.set_enter_condition( enter_condition_long, enter_condition_short )\n",
    "test_2022.set_stop_loss_vector( profit )\n",
    "test_2022.set_take_profit_vector( profit )\n",
    "\n",
    "test_2022.run_simulator()\n",
    "test_2022.strategy_plot()"
   ]
  },
  {
   "attachments": {},
   "cell_type": "markdown",
   "id": "6be6daf7",
   "metadata": {},
   "source": [
    "### I won't be rich quite yet..."
   ]
  },
  {
   "attachments": {},
   "cell_type": "markdown",
   "id": "888d129d",
   "metadata": {},
   "source": [
    "## SUPPORT VECTOR MACHINE (SVM) MODEL:\n",
    "### Feature engineering:"
   ]
  },
  {
   "cell_type": "code",
   "execution_count": 30,
   "id": "95d0a74b",
   "metadata": {},
   "outputs": [
    {
     "name": "stdout",
     "output_type": "stream",
     "text": [
      "Number features:  15\n",
      "Number of non-zero cases:  194\n"
     ]
    }
   ],
   "source": [
    "# creating a dataframe with best strategies from PREVIOUS YEAR enter conditions: 1 - long opportunity, -1 - short opportunity:\n",
    "strategies_num = len(test_2021.best_strategies)\n",
    "\n",
    "X = test_2022.df[['Labels_2']].copy()\n",
    "\n",
    "strategies_list = []\n",
    "for i in range(0, strategies_num):\n",
    "    \n",
    "    enter_condition_long =    test_2022.df[test_2021.best_strategies.iloc[i,0]+'_enter_long'] \\\n",
    "                            & test_2022.df[test_2021.best_strategies.iloc[i,1]+'_enter_long'] \\\n",
    "                            & test_2022.df[test_2021.best_strategies.iloc[i,2]+'_enter_long'] \n",
    "            \n",
    "    enter_condition_short =   test_2022.df[test_2021.best_strategies.iloc[i,0]+'_enter_short'] \\\n",
    "                            & test_2022.df[test_2021.best_strategies.iloc[i,1]+'_enter_short'] \\\n",
    "                            & test_2022.df[test_2021.best_strategies.iloc[i,2]+'_enter_short'] \n",
    "    \n",
    "    X['Strategy_'+str(i)] = np.where( enter_condition_long, 1,  0)\n",
    "    X['Strategy_'+str(i)] = np.where( enter_condition_short, -1,  X['Strategy_'+str(i)])\n",
    "    strategies_list.append('Strategy_'+str(i))\n",
    "\n",
    "X = X.loc[~(X[strategies_list]==0).all(axis=1)]\n",
    "X.dropna(inplace=True)\n",
    "\n",
    "print( 'Number features: ',X.shape[1]-1 )\n",
    "print( 'Number of non-zero cases: ', len(X))"
   ]
  },
  {
   "attachments": {},
   "cell_type": "markdown",
   "id": "aebb7b38",
   "metadata": {},
   "source": [
    "### Model training:"
   ]
  },
  {
   "cell_type": "code",
   "execution_count": 31,
   "id": "40960b8b",
   "metadata": {},
   "outputs": [
    {
     "name": "stdout",
     "output_type": "stream",
     "text": [
      "TRAIN Accuracy: 0.613\n",
      "TRAIN Confusion matrix: \n",
      " [[44 26]\n",
      " [34 51]] \n",
      "\n",
      "TEST Accuracy: 0.513\n",
      "TEST Confusion matrix: \n",
      " [[ 8  5]\n",
      " [14 12]]\n"
     ]
    }
   ],
   "source": [
    "from sklearn.metrics import confusion_matrix\n",
    "from sklearn import svm\n",
    "from sklearn.metrics import accuracy_score\n",
    "\n",
    "train_set = int(len(X)*0.80)\n",
    "\n",
    "y_train = X.iloc[ :train_set,0].copy()\n",
    "X_train = X.iloc[:train_set,1:].copy()\n",
    "\n",
    "y_test = X.iloc[train_set:,0].copy()\n",
    "X_test = X.iloc[train_set:,1:].copy()\n",
    "\n",
    "sv = svm.SVC(kernel='linear', class_weight='balanced')\n",
    "sv.fit(X_train , y_train)\n",
    "\n",
    "y_hat_train = sv.predict(X_train)\n",
    "y_hat_test = sv.predict(X_test)\n",
    "\n",
    "print('TRAIN Accuracy: %0.3f' % accuracy_score(y_hat_train, y_train) )\n",
    "print('TRAIN Confusion matrix: \\n', confusion_matrix(y_hat_train, y_train), '\\n')\n",
    "\n",
    "print('TEST Accuracy: %0.3f' % accuracy_score(y_hat_test, y_test) )\n",
    "print('TEST Confusion matrix: \\n', confusion_matrix(y_hat_test, y_test) )"
   ]
  },
  {
   "attachments": {},
   "cell_type": "markdown",
   "id": "876dbaa5",
   "metadata": {},
   "source": [
    "### Evaluation:"
   ]
  },
  {
   "cell_type": "code",
   "execution_count": 32,
   "id": "b25be718",
   "metadata": {},
   "outputs": [
    {
     "name": "stdout",
     "output_type": "stream",
     "text": [
      "FINAL RETURN :  101.45 \n",
      "MAX RETURN:  102.04 \n",
      "MIN RETURN:  100.29 \n",
      "Wins:  20 ; Losses:  14 ; Win rate:  0.588\n",
      "Average profit in pips:  29.4 ; Average loss in pips:  31.7\n"
     ]
    },
    {
     "data": {
      "image/png": "[encoded data removed]",
      "text/plain": [
       "<Figure size 1080x216 with 1 Axes>"
      ]
     },
     "metadata": {
      "needs_background": "light"
     },
     "output_type": "display_data"
    }
   ],
   "source": [
    "test_2022.get_best_strategies_from_df( test_2021.best_strategies )\n",
    "\n",
    "test_time = X.index[train_set]\n",
    "test_set_2022 = test_2022.df[test_2022.df.index > test_time].copy()\n",
    "test_set_2022['Predicition'] = 0\n",
    "non_zero_indicators = ~(test_set_2022[strategies_list]==0).all(axis=1)\n",
    "test_set_2022['Predicition'][non_zero_indicators] = sv.predict(test_set_2022[strategies_list][non_zero_indicators])\n",
    "\n",
    "enter_long_sv =  np.where( test_set_2022['Predicition'] == 1 , 1,  0)\n",
    "enter_short_sv = np.where( test_set_2022['Predicition'] == -1, 1,  0)\n",
    "                \n",
    "Strategy_sv = functions.trade_simulator(test_set_2022.Close, test_set_2022.High, test_set_2022.Low, test_set_2022.Spr, \n",
    "                                        enter_long_sv, \n",
    "                                        enter_short_sv,  \n",
    "                                        take_profit = profit, \n",
    "                                        stop_loss = profit, \n",
    "                                    )\n",
    "\n",
    "test_set_2022['Position'] = Strategy_sv[1]\n",
    "test_set_2022['Win_loss'] = Strategy_sv[0]\n",
    "\n",
    "functions.strategy_outcome(test_set_2022, 'Win_loss', 'Position')\n",
    "\n"
   ]
  },
  {
   "cell_type": "markdown",
   "id": "b3b424db",
   "metadata": {},
   "source": [
    "___"
   ]
  }
 ],
 "metadata": {
  "kernelspec": {
   "display_name": "Python 3",
   "language": "python",
   "name": "python3"
  },
  "language_info": {
   "codemirror_mode": {
    "name": "ipython",
    "version": 3
   },
   "file_extension": ".py",
   "mimetype": "text/x-python",
   "name": "python",
   "nbconvert_exporter": "python",
   "pygments_lexer": "ipython3",
   "version": "3.9.1"
  },
  "vscode": {
   "interpreter": {
    "hash": "8a5edab282632443219e051e4ade2d1d5bbc671c781051bf1437897cbdfea0f1"
   }
  }
 },
 "nbformat": 4,
 "nbformat_minor": 5
}
